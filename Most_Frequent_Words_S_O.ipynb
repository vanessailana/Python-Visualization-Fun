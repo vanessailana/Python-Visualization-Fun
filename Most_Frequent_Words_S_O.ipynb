{
  "nbformat": 4,
  "nbformat_minor": 0,
  "metadata": {
    "colab": {
      "name": "Most Frequent Words S/O.ipynb",
      "provenance": []
    },
    "kernelspec": {
      "name": "python3",
      "display_name": "Python 3"
    },
    "language_info": {
      "name": "python"
    }
  },
  "cells": [
    {
      "cell_type": "code",
      "source": [
        "import pandas as pd \n",
        "df=pd.read_csv('/content/train.csv')\n",
        "df2=pd.read_csv('/content/valid 2.csv')\n",
        "pd.Series(' '.join(df['Body']).lower().split()).value_counts()[:50]"
      ],
      "metadata": {
        "colab": {
          "base_uri": "https://localhost:8080/"
        },
        "id": "6TaUw8cSchRS",
        "outputId": "40ddb9f3-d65a-4b82-951b-77fe130beb3a"
      },
      "execution_count": 10,
      "outputs": [
        {
          "output_type": "execute_result",
          "data": {
            "text/plain": [
              "the              148502\n",
              "to               114854\n",
              "i                107108\n",
              "=                 88677\n",
              "a                 74260\n",
              "is                61628\n",
              "{                 61388\n",
              "in                58749\n",
              "}                 58342\n",
              "and               57722\n",
              "of                43387\n",
              "it                34803\n",
              "for               33411\n",
              "this              33007\n",
              "</code></pre>     30126\n",
              "that              28807\n",
              "have              28194\n",
              "if                26120\n",
              "my                25527\n",
              "but               24039\n",
              "with              23940\n",
              "<p>i              23504\n",
              "not               20975\n",
              "on                20790\n",
              "from              19629\n",
              "can               18206\n",
              "as                18147\n",
              "be                17839\n",
              "at                17295\n",
              "new               17169\n",
              "am                17024\n",
              "an                15690\n",
              "how               14741\n",
              "using             14701\n",
              "want              14212\n",
              "return            13709\n",
              "do                13593\n",
              "like              13503\n",
              "+                 13299\n",
              "or                13237\n",
              "code              13187\n",
              "</p>              13095\n",
              "public            13081\n",
              "when              12396\n",
              "int               11942\n",
              "get               11064\n",
              "string            11036\n",
              "//                10644\n",
              "use               10345\n",
              "are               10320\n",
              "dtype: int64"
            ]
          },
          "metadata": {},
          "execution_count": 10
        }
      ]
    },
    {
      "cell_type": "code",
      "source": [
        " import pandas as pd \n",
        " pd.Series(' '.join(df2['Body']).lower().split()).value_counts()[:50]"
      ],
      "metadata": {
        "colab": {
          "base_uri": "https://localhost:8080/"
        },
        "id": "1JvhwRvodGGP",
        "outputId": "902904af-654f-4446-edec-02a0f40a30f9"
      },
      "execution_count": 11,
      "outputs": [
        {
          "output_type": "execute_result",
          "data": {
            "text/plain": [
              "the              49779\n",
              "to               38506\n",
              "i                35833\n",
              "=                29466\n",
              "a                25072\n",
              "is               20555\n",
              "{                20153\n",
              "in               20106\n",
              "and              19734\n",
              "}                19220\n",
              "of               14538\n",
              "it               11488\n",
              "for              11087\n",
              "this             11072\n",
              "</code></pre>    10092\n",
              "that              9911\n",
              "have              9412\n",
              "if                8711\n",
              "my                8596\n",
              "but               8121\n",
              "with              7931\n",
              "<p>i              7817\n",
              "not               7035\n",
              "on                6839\n",
              "from              6505\n",
              "at                6402\n",
              "can               6173\n",
              "as                5979\n",
              "be                5971\n",
              "am                5528\n",
              "new               5513\n",
              "an                5294\n",
              "how               4926\n",
              "using             4910\n",
              "want              4822\n",
              "do                4722\n",
              "like              4570\n",
              "return            4460\n",
              "or                4445\n",
              "+                 4401\n",
              "</p>              4392\n",
              "code              4387\n",
              "public            4243\n",
              "when              4189\n",
              "int               3977\n",
              "get               3756\n",
              "//                3648\n",
              "use               3605\n",
              "string            3553\n",
              "are               3519\n",
              "dtype: int64"
            ]
          },
          "metadata": {},
          "execution_count": 11
        }
      ]
    }
  ]
}